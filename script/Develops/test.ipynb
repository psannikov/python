{
 "cells": [
  {
   "cell_type": "code",
   "execution_count": 1,
   "metadata": {},
   "outputs": [],
   "source": [
    "import requests as req\n",
    "import pandas as pd\n",
    "import sqlite3"
   ]
  },
  {
   "cell_type": "code",
   "execution_count": 2,
   "metadata": {},
   "outputs": [],
   "source": [
    "ENDPOINT = 'https://api.hh.ru/vacancies'\n",
    "URL_HEADERS = {'User-Agent': 'Mozilla/5.0'}\n",
    "DB_NAME = 'hh.db'\n",
    "TABLE_NAME = 'vacancies_api'\n",
    "LIMIT_OF_VACANCY_DETAIL = 100"
   ]
  },
  {
   "cell_type": "code",
   "execution_count": 3,
   "metadata": {},
   "outputs": [],
   "source": [
    "\n",
    "api_params = {'text':'python middle developer',\n",
    "              'search_field':'name',\n",
    "              'per_page': 5,\n",
    "              'page':0}\n",
    "vacancyDetailInfo =[]"
   ]
  },
  {
   "cell_type": "code",
   "execution_count": 19,
   "metadata": {},
   "outputs": [],
   "source": [
    "results = req.get(ENDPOINT, headers = URL_HEADERS, params = api_params).json()"
   ]
  },
  {
   "cell_type": "code",
   "execution_count": 20,
   "metadata": {},
   "outputs": [
    {
     "data": {
      "text/plain": [
       "{'id': '82841724',\n",
       " 'premium': False,\n",
       " 'name': 'Junior/Middle backend разработчик на Fast API (Python)',\n",
       " 'department': None,\n",
       " 'has_test': False,\n",
       " 'response_letter_required': False,\n",
       " 'area': {'id': '1', 'name': 'Москва', 'url': 'https://api.hh.ru/areas/1'},\n",
       " 'salary': {'from': 50000, 'to': 100000, 'currency': 'RUR', 'gross': False},\n",
       " 'type': {'id': 'open', 'name': 'Открытая'},\n",
       " 'address': None,\n",
       " 'response_url': None,\n",
       " 'sort_point_distance': None,\n",
       " 'published_at': '2023-06-30T13:21:39+0300',\n",
       " 'created_at': '2023-06-30T13:21:39+0300',\n",
       " 'archived': False,\n",
       " 'apply_alternate_url': 'https://hh.ru/applicant/vacancy_response?vacancyId=82841724',\n",
       " 'insider_interview': None,\n",
       " 'url': 'https://api.hh.ru/vacancies/82841724?host=hh.ru',\n",
       " 'alternate_url': 'https://hh.ru/vacancy/82841724',\n",
       " 'relations': [],\n",
       " 'employer': {'id': '5843588',\n",
       "  'name': 'Webtronics',\n",
       "  'url': 'https://api.hh.ru/employers/5843588',\n",
       "  'alternate_url': 'https://hh.ru/employer/5843588',\n",
       "  'logo_urls': {'original': 'https://hhcdn.ru/employer-logo-original/944033.png',\n",
       "   '240': 'https://hhcdn.ru/employer-logo/4216669.png',\n",
       "   '90': 'https://hhcdn.ru/employer-logo/4216668.png'},\n",
       "  'vacancies_url': 'https://api.hh.ru/vacancies?employer_id=5843588',\n",
       "  'accredited_it_employer': False,\n",
       "  'trusted': True},\n",
       " 'snippet': {'requirement': 'Уверенные знаниями языка и стандартных библиотек <highlighttext>Python</highlighttext> 3. Умение писать качественный и эффективный код на <highlighttext>Python</highlighttext> 3. Твердый опыт <highlighttext>разработки</highlighttext>...',\n",
       "  'responsibility': 'Прототипирование backend для web-сервисов и мобильных приложений заказчиков. <highlighttext>Разработка</highlighttext> backend для web-сервисов и мобильных приложений заказчиков. '},\n",
       " 'contacts': None,\n",
       " 'schedule': None,\n",
       " 'working_days': [],\n",
       " 'working_time_intervals': [],\n",
       " 'working_time_modes': [],\n",
       " 'accept_temporary': True,\n",
       " 'professional_roles': [{'id': '96', 'name': 'Программист, разработчик'}],\n",
       " 'accept_incomplete_resumes': False,\n",
       " 'experience': {'id': 'between1And3', 'name': 'От 1 года до 3 лет'},\n",
       " 'employment': {'id': 'full', 'name': 'Полная занятость'},\n",
       " 'adv_response_url': None,\n",
       " 'is_adv_vacancy': False}"
      ]
     },
     "execution_count": 20,
     "metadata": {},
     "output_type": "execute_result"
    }
   ],
   "source": [
    "results['items'][0]"
   ]
  },
  {
   "cell_type": "code",
   "execution_count": 16,
   "metadata": {},
   "outputs": [],
   "source": [
    "results = req.get('https://api.hh.ru/employers/5843588', headers = URL_HEADERS, params = api_params).json()"
   ]
  },
  {
   "cell_type": "code",
   "execution_count": 17,
   "metadata": {},
   "outputs": [
    {
     "data": {
      "text/plain": [
       "{'id': '5843588',\n",
       " 'trusted': True,\n",
       " 'accredited_it_employer': False,\n",
       " 'name': 'Webtronics',\n",
       " 'type': 'company',\n",
       " 'description': '<h2><strong>О компании Webtronics</strong></h2> <p>Webtronics — агентство интернет-маркетинга полного цикла. Уже 13 лет мы оказываем весь комплекс услуг по продвижению бизнеса в интернете, разработке мобильных приложений и веб-сервисов, автоматизации процессов и внедрению CRM.</p> <p>Отдельное направление деятельности Webtronics — разработка собственных программ и сервисов автоматизации. На сегодняшний день мы создали 3\\xa0программных продукта, которые помогают:</p> <p>— автоматически загружать и обновлять контент на сайтах интернет-магазинов;</p> <p>— в 20 раз ускорять обработку различных данных, используемых интернет-маркетологами в Excel;</p> <p>— вести аналитику и выводить сайты в ТОП по SEO.</p> <h2><strong>Направления деятельности Webtronics</strong></h2> <ol> <li> <p>Разработка и тестирование мобильных приложений и веб-сервисов.</p> </li> <li> <p>Создание сайтов любой сложности: лендингов, интернет-магазинов, сайтов-визиток, корпоративных порталов.</p> </li> <li> <p>Поддержка сайтов: наполнение контентом, веб-разработка, тестирование функционала.</p> </li> <li> <p>SEO-продвижение с использованием наиболее эффективных сторонних, а также собственных программ и сервисов автоматизации.</p> </li> <li> <p>Настройка и ведение контекстной рекламы в Яндекс.Директ и Google AdWords.</p> </li> <li> <p>Настройка и ведение Яндекс.Маркет и Google Merchant Center.</p> </li> <li> <p>Автоматизация бизнеса и внедрение CRM-систем: Битрикс24, amoCRM и другие.</p> </li> <li> <p>Создание и ведение групп в соцсетях.</p> </li> <li> <p>Настройка таргетированной рекламы.</p> </li> <li> <p>Разработка криптовалюты и веб-сервисов для блокчейн-проектов.</p> </li> </ol> <h2><strong>Команда и организация работы в Webtronics</strong></h2> <p>На сегодня в нашей команде 57 специалистов в сфере digital: SEO-специалистов, разработчиков, интернет-маркетологов, дизайнеров, редакторов, контент- и аккаунт-менеджеров, специалистов из отделов продаж и финансов. География сотрудников: Россия, Украина, Молдавия, Казахстан.</p> <p>Все рабочие процессы в агентстве организуются по методологии Agile (Scrum) и ведутся на платформе Битрикс.24. Перед запуском проекта мы тщательно планируем последовательность этапов, разбиваем работы на короткие спринты, строим диаграмму Ганта, закрепляем задачи и ответственность за членами команды. Это помогает избегать конфликтов, путаницы и срыва сроков.</p> <h2><strong>Преимущества работы в Webtronics</strong></h2> <p><u>1. Гибкий график.</u>\\xa0Офис Webtronics расположен в Москве, но практически вся команда находится на удаленке. Вы можете работать в любое время и из любой точки мира. Главное, чтобы поставленная задача была сдана в срок.</p> <p><u>2. Карьерный рост.</u>\\xa0Вы можете развиваться в команде как по горизонтали, так и по вертикали. Это значит, что при вашем желании и соответствующих навыках, вы можете стать руководителем своего направления или перейти в смежный отдел и развиваться в новой для вас профессии.\\xa0</p> <p><u>3. Внутреннее обучение.</u>\\xa0В нашей команде хорошо развита система наставничества. Если у вас будут вопросы по поставленным задачам или пробелы в знаниях, мы будем рады предоставить доступ к приобретенным курсам по различным специализациям, а также наши авторские видеоуроки и материалы. Кроме того, ваши непосредственные руководители и коллеги помогут разобраться с возникшими вопросами и справиться с задачей.</p> <p><u>4. Разные форматы сотрудничества.</u>\\xa0Вы можете работать в агентстве на полную ставку, с частичной занятостью или попроектно. Выбор будет зависеть от вашего желания и объема поставленных задач. Мы можем оформить отношения как по трудовому договору, так и по договору с самозанятым лицом или ИП. Если у вас не зарегистрировано ИП или самозанятость — поможем открыть и расскажем, как вести учет и отчетность.</p> <p><u>5.\\xa0Четкая система работы.</u>\\xa0За 13 лет деятельности агентства у нас сформировалась четкая и прозрачная система работы. Вам будет понятно, что и в какой срок нужно делать. При этом мы принимаем во внимание личные непредвиденные обстоятельства и всегда готовы найти компромиссное решение.</p> <p><u>6.Совместный отдых.</u>\\xa0С 2019-го года у нас появилась традиция: в преддверии Нового года мы приглашаем ребят из разных городов на корпоратив в Москве. В этом году планируем встречаться уже два раза в год и, возможно, не только в Москве ;)</p>',\n",
       " 'site_url': 'https://webtronics.ru/',\n",
       " 'alternate_url': 'https://hh.ru/employer/5843588',\n",
       " 'vacancies_url': 'https://api.hh.ru/vacancies?employer_id=5843588',\n",
       " 'logo_urls': {'240': 'https://hhcdn.ru/employer-logo/4216669.png',\n",
       "  'original': 'https://hhcdn.ru/employer-logo-original/944033.png',\n",
       "  '90': 'https://hhcdn.ru/employer-logo/4216668.png'},\n",
       " 'relations': [],\n",
       " 'area': {'id': '1', 'name': 'Москва', 'url': 'https://api.hh.ru/areas/1'},\n",
       " 'industries': [],\n",
       " 'branded_description': None,\n",
       " 'branding': None,\n",
       " 'insider_interviews': [],\n",
       " 'open_vacancies': 2}"
      ]
     },
     "execution_count": 17,
     "metadata": {},
     "output_type": "execute_result"
    }
   ],
   "source": [
    "results"
   ]
  }
 ],
 "metadata": {
  "kernelspec": {
   "display_name": "Python 3",
   "language": "python",
   "name": "python3"
  },
  "language_info": {
   "codemirror_mode": {
    "name": "ipython",
    "version": 3
   },
   "file_extension": ".py",
   "mimetype": "text/x-python",
   "name": "python",
   "nbconvert_exporter": "python",
   "pygments_lexer": "ipython3",
   "version": "3.9.13"
  },
  "orig_nbformat": 4
 },
 "nbformat": 4,
 "nbformat_minor": 2
}
