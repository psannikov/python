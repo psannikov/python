{
 "cells": [
  {
   "cell_type": "code",
   "execution_count": 1,
   "id": "a7325d00",
   "metadata": {},
   "outputs": [],
   "source": [
    "import zipfile\n",
    "import json\n",
    "from pathlib import Path\n",
    "import multiprocessing"
   ]
  },
  {
   "cell_type": "code",
   "execution_count": 2,
   "id": "279d4abf",
   "metadata": {},
   "outputs": [],
   "source": [
    "ZIP_ARCHIVE = 'egrul.json.short.zip'\n",
    "DICT_KEY_SEARCH = 'СвОКВЭД'\n",
    "OKVED_SEARCH = 'СвОКВЭДОсн'\n",
    "SV_OKVED_KEY_SEARCH = 'КодОКВЭД'\n",
    "SV_OKVED_VALUE_SEARCH = '61'\n",
    "COUNT_OF_FLOW = 10\n",
    "\n",
    "list_of_company = []"
   ]
  },
  {
   "cell_type": "code",
   "execution_count": 3,
   "id": "2d5d89ad",
   "metadata": {},
   "outputs": [],
   "source": [
    "def filter_company_by_okved(source_data):\n",
    "    return [d for d in source_data if d.get('data',{}).get(DICT_KEY_SEARCH,{}).get(OKVED_SEARCH,{}).get(SV_OKVED_KEY_SEARCH) == SV_OKVED_VALUE_SEARCH]"
   ]
  },
  {
   "cell_type": "code",
   "execution_count": 4,
   "id": "24b3934f",
   "metadata": {},
   "outputs": [],
   "source": [
    "def parse_file_in_flow(number):\n",
    "    count = 0;\n",
    "    print(f'Работа потока {number}')\n",
    "    with zipfile.ZipFile(ZIP_ARCHIVE, 'r') as zip_files:\n",
    "        for file_name in zip_files.namelist():\n",
    "            if file_name.endswith('.json'):\n",
    "                path = Path(file_name)\n",
    "                if (int(path.stem)%COUNT_OF_FLOW == number):\n",
    "                    count += 1\n",
    "                    # if file_name == '00001.json':\n",
    "                    print(f'Обработка файла №{count} имя файла {file_name}')\n",
    "                    with zip_files.open(file_name) as file:\n",
    "                        data = json.load(file)\n",
    "                        data = filter_company_by_okved(data)\n",
    "                        if len (data) > 0:\n",
    "                            list_of_company.append(filter_company_by_okved(data))"
   ]
  },
  {
   "cell_type": "code",
   "execution_count": 5,
   "id": "57c2f04c",
   "metadata": {},
   "outputs": [],
   "source": [
    "num_processes = 10"
   ]
  },
  {
   "cell_type": "code",
   "execution_count": 6,
   "id": "f90bc14f",
   "metadata": {},
   "outputs": [],
   "source": [
    "inputs = [x for x in range(0, 10)]  # Example inputs"
   ]
  },
  {
   "cell_type": "code",
   "execution_count": 7,
   "id": "6a60eaff",
   "metadata": {},
   "outputs": [
    {
     "data": {
      "text/plain": [
       "[0, 1, 2, 3, 4, 5, 6, 7, 8, 9]"
      ]
     },
     "execution_count": 7,
     "metadata": {},
     "output_type": "execute_result"
    }
   ],
   "source": [
    "inputs"
   ]
  },
  {
   "cell_type": "code",
   "execution_count": 8,
   "id": "a042304f",
   "metadata": {},
   "outputs": [],
   "source": [
    "if __name__ == '__main__':\n",
    "    pool = multiprocessing.Pool(processes=num_processes)\n",
    "    results = pool.map(parse_file_in_flow, inputs)\n",
    "    pool.close()\n",
    "    pool.join()"
   ]
  }
 ],
 "metadata": {
  "kernelspec": {
   "display_name": "Python 3 (ipykernel)",
   "language": "python",
   "name": "python3"
  },
  "language_info": {
   "codemirror_mode": {
    "name": "ipython",
    "version": 3
   },
   "file_extension": ".py",
   "mimetype": "text/x-python",
   "name": "python",
   "nbconvert_exporter": "python",
   "pygments_lexer": "ipython3",
   "version": "3.9.13"
  }
 },
 "nbformat": 4,
 "nbformat_minor": 5
}
