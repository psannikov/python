{
 "cells": [
  {
   "attachments": {},
   "cell_type": "markdown",
   "metadata": {},
   "source": [
    "Импортируем библиотеки"
   ]
  },
  {
   "cell_type": "code",
   "execution_count": 1,
   "metadata": {},
   "outputs": [],
   "source": [
    "import requests as req\n",
    "import bs4  as bs\n",
    "from collections import Counter as c"
   ]
  },
  {
   "attachments": {},
   "cell_type": "markdown",
   "metadata": {},
   "source": [
    "Определяем константы и перемнные"
   ]
  },
  {
   "cell_type": "code",
   "execution_count": 2,
   "metadata": {},
   "outputs": [],
   "source": [
    "URL_SEARCH = \"https://hh.ru/search/vacancy?text=python+middle\"\n",
    "URL_HEADERS = {'User-Agent': 'Mozilla/5.0'}"
   ]
  },
  {
   "cell_type": "code",
   "execution_count": 3,
   "metadata": {},
   "outputs": [],
   "source": [
    "numersOfPage = 0\n",
    "listLinkOfVacancy = []\n",
    "listOfRequirements = []\n",
    "url_params = {'page':0}"
   ]
  },
  {
   "attachments": {},
   "cell_type": "markdown",
   "metadata": {},
   "source": [
    "Определяем функции"
   ]
  },
  {
   "cell_type": "code",
   "execution_count": 4,
   "metadata": {},
   "outputs": [],
   "source": [
    "def getBSPage(URL_SEARCH):\n",
    "    result = req.get(URL_SEARCH, headers=URL_HEADERS, params=url_params)\n",
    "    return bs.BeautifulSoup(result.content,'lxml')"
   ]
  },
  {
   "cell_type": "code",
   "execution_count": 5,
   "metadata": {},
   "outputs": [],
   "source": [
    "def addVacancyToList(soup):\n",
    "    for vac in list(soup.find_all('a',{'data-qa': 'serp-item__title','target':'_blank'})):\n",
    "        vac = str(vac)\n",
    "        if vac.find('hh.ru/vacancy/') > 0 :\n",
    "            listLinkOfVacancy.append('https://' + vac[vac.find('hh.ru/vacancy/'):vac.find('?')])"
   ]
  },
  {
   "attachments": {},
   "cell_type": "markdown",
   "metadata": {},
   "source": [
    "Собираем информацию о всех вакансиях"
   ]
  },
  {
   "cell_type": "code",
   "execution_count": 6,
   "metadata": {},
   "outputs": [],
   "source": [
    "# Получаем кол-во страниц с результатами поиска\n",
    "soup = getBSPage(URL_SEARCH)\n",
    "subst = str(list(soup.find_all('a',{'data-qa': 'pager-page'}))[-1]).split(';')[1]\n",
    "numers_of_page = int(subst[subst.find('=')+1:subst.find('&')])\n",
    "for i in range(numers_of_page):\n",
    "    if i == 0:\n",
    "        addVacancyToList(soup)\n",
    "    else:\n",
    "        url_params['page'] = i\n",
    "        soup = getBSPage(URL_SEARCH)\n",
    "        addVacancyToList(soup)"
   ]
  },
  {
   "attachments": {},
   "cell_type": "markdown",
   "metadata": {},
   "source": [
    "Собираем информацию о требованиях по вакансиям"
   ]
  },
  {
   "cell_type": "code",
   "execution_count": 7,
   "metadata": {},
   "outputs": [],
   "source": [
    "for link in listLinkOfVacancy:\n",
    "    soup = getBSPage(link)\n",
    "    vacancies = soup.find_all('div', {'class': 'vacancy-section'})\n",
    "    for vacancy in vacancies:\n",
    "        if vacancy.find('h2',{'class':'bloko-header-section-2'}):\n",
    "            requirements = vacancy.find_all('span')\n",
    "            for requirement in requirements:\n",
    "                listOfRequirements.append(requirement.text)"
   ]
  },
  {
   "attachments": {},
   "cell_type": "markdown",
   "metadata": {},
   "source": [
    "Выводим результат"
   ]
  },
  {
   "cell_type": "code",
   "execution_count": 8,
   "metadata": {},
   "outputs": [
    {
     "name": "stdout",
     "output_type": "stream",
     "text": [
      "Популярные требования [('Python', 197), ('SQL', 110), ('Git', 89), ('Linux', 82), ('PostgreSQL', 81), ('Docker', 64), ('Django Framework', 36), ('Kubernetes', 30), ('RabbitMQ', 24), ('Redis', 22)]\n"
     ]
    }
   ],
   "source": [
    "print (f'Популярные требования {c(listOfRequirements).most_common(10)}')"
   ]
  }
 ],
 "metadata": {
  "kernelspec": {
   "display_name": "Python 3",
   "language": "python",
   "name": "python3"
  },
  "language_info": {
   "codemirror_mode": {
    "name": "ipython",
    "version": 3
   },
   "file_extension": ".py",
   "mimetype": "text/x-python",
   "name": "python",
   "nbconvert_exporter": "python",
   "pygments_lexer": "ipython3",
   "version": "3.9.13"
  },
  "orig_nbformat": 4
 },
 "nbformat": 4,
 "nbformat_minor": 2
}
