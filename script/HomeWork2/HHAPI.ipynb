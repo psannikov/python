{
 "cells": [
  {
   "cell_type": "code",
   "execution_count": 1,
   "metadata": {},
   "outputs": [],
   "source": [
    "import requests as req\n",
    "import pandas as pd\n",
    "import sqlite3"
   ]
  },
  {
   "cell_type": "code",
   "execution_count": 2,
   "metadata": {},
   "outputs": [],
   "source": [
    "ENDPOINT = 'https://api.hh.ru/vacancies'\n",
    "URL_HEADERS = {'User-Agent': 'Mozilla/5.0'}\n",
    "DB_NAME = 'hh.db'\n",
    "TABLE_NAME = 'vacancies_api'\n",
    "LIMIT_OF_VACANCY_DETAIL = 100"
   ]
  },
  {
   "cell_type": "code",
   "execution_count": 3,
   "metadata": {},
   "outputs": [],
   "source": [
    "\n",
    "api_params = {'text':'python middle developer',\n",
    "              'search_field':'name',\n",
    "              'per_page': 25,\n",
    "              'page':0}\n",
    "vacancyDetailInfo =[]"
   ]
  },
  {
   "cell_type": "code",
   "execution_count": 4,
   "metadata": {},
   "outputs": [],
   "source": [
    "def parsJsonAppendData (data):\n",
    "    for result in data['items']:\n",
    "        vacancyRow = []\n",
    "        listOfRequirements = []\n",
    "        vacancyName = result['name']\n",
    "        companyName = result['employer']['name']\n",
    "        vacancyid = result['id']\n",
    "        vacancyDetail = req.get(ENDPOINT+'/'+vacancyid, headers = URL_HEADERS).json()\n",
    "        print(ENDPOINT+'/'+vacancyid)\n",
    "        vacancyDescription = vacancyDetail['description']\n",
    "        for skill in vacancyDetail['key_skills']:\n",
    "            listOfRequirements.append(skill['name'])\n",
    "        stringOfRequirements = ', '.join(listOfRequirements)\n",
    "        vacancyRow.append(companyName)\n",
    "        vacancyRow.append(vacancyName)\n",
    "        vacancyRow.append(vacancyDescription)\n",
    "        vacancyRow.append(stringOfRequirements)\n",
    "        vacancyDetailInfo.append(vacancyRow)"
   ]
  },
  {
   "cell_type": "code",
   "execution_count": null,
   "metadata": {},
   "outputs": [],
   "source": [
    "results['items'][0]['name']"
   ]
  },
  {
   "cell_type": "code",
   "execution_count": 5,
   "metadata": {},
   "outputs": [
    {
     "name": "stdout",
     "output_type": "stream",
     "text": [
      "https://api.hh.ru/vacancies/82247456\n",
      "https://api.hh.ru/vacancies/82440741\n",
      "https://api.hh.ru/vacancies/81780083\n",
      "https://api.hh.ru/vacancies/81949300\n",
      "https://api.hh.ru/vacancies/82104952\n",
      "https://api.hh.ru/vacancies/81941871\n",
      "https://api.hh.ru/vacancies/82402579\n",
      "https://api.hh.ru/vacancies/82260854\n",
      "https://api.hh.ru/vacancies/82092062\n",
      "https://api.hh.ru/vacancies/82172506\n",
      "https://api.hh.ru/vacancies/81510302\n",
      "https://api.hh.ru/vacancies/82055830\n",
      "https://api.hh.ru/vacancies/82467015\n",
      "https://api.hh.ru/vacancies/82119779\n",
      "https://api.hh.ru/vacancies/82244830\n",
      "https://api.hh.ru/vacancies/82119961\n",
      "https://api.hh.ru/vacancies/82108779\n",
      "https://api.hh.ru/vacancies/82306450\n",
      "https://api.hh.ru/vacancies/82333777\n",
      "https://api.hh.ru/vacancies/82333627\n",
      "https://api.hh.ru/vacancies/81254369\n",
      "https://api.hh.ru/vacancies/81826635\n",
      "https://api.hh.ru/vacancies/81123242\n",
      "https://api.hh.ru/vacancies/82056502\n",
      "https://api.hh.ru/vacancies/81123241\n",
      "Список детальной информации о вакансиях содержит 25 записей\n",
      "https://api.hh.ru/vacancies/82444113\n",
      "https://api.hh.ru/vacancies/82103215\n",
      "https://api.hh.ru/vacancies/82181871\n",
      "https://api.hh.ru/vacancies/82168968\n",
      "https://api.hh.ru/vacancies/82438304\n",
      "https://api.hh.ru/vacancies/81029388\n",
      "https://api.hh.ru/vacancies/81843757\n",
      "https://api.hh.ru/vacancies/80950478\n",
      "https://api.hh.ru/vacancies/82211716\n",
      "https://api.hh.ru/vacancies/82056776\n",
      "https://api.hh.ru/vacancies/81569288\n",
      "https://api.hh.ru/vacancies/81744533\n",
      "https://api.hh.ru/vacancies/81598012\n",
      "https://api.hh.ru/vacancies/81586890\n",
      "https://api.hh.ru/vacancies/81358944\n",
      "https://api.hh.ru/vacancies/81763266\n",
      "https://api.hh.ru/vacancies/81844307\n",
      "https://api.hh.ru/vacancies/81536066\n",
      "https://api.hh.ru/vacancies/81185961\n",
      "https://api.hh.ru/vacancies/81434937\n",
      "https://api.hh.ru/vacancies/67115536\n",
      "https://api.hh.ru/vacancies/77731487\n",
      "https://api.hh.ru/vacancies/82170330\n",
      "https://api.hh.ru/vacancies/81830521\n",
      "https://api.hh.ru/vacancies/80935302\n",
      "Список детальной информации о вакансиях содержит 50 записей\n",
      "https://api.hh.ru/vacancies/82299017\n",
      "https://api.hh.ru/vacancies/81787039\n",
      "https://api.hh.ru/vacancies/81829942\n",
      "https://api.hh.ru/vacancies/82391131\n",
      "https://api.hh.ru/vacancies/82040028\n",
      "https://api.hh.ru/vacancies/81598013\n",
      "https://api.hh.ru/vacancies/82194939\n",
      "https://api.hh.ru/vacancies/82056777\n",
      "https://api.hh.ru/vacancies/81962313\n",
      "https://api.hh.ru/vacancies/82179566\n",
      "https://api.hh.ru/vacancies/81585112\n",
      "https://api.hh.ru/vacancies/81933352\n",
      "https://api.hh.ru/vacancies/81619123\n",
      "https://api.hh.ru/vacancies/81387919\n",
      "https://api.hh.ru/vacancies/81456446\n",
      "https://api.hh.ru/vacancies/82032118\n",
      "https://api.hh.ru/vacancies/81974265\n",
      "https://api.hh.ru/vacancies/81472661\n",
      "https://api.hh.ru/vacancies/82133694\n",
      "https://api.hh.ru/vacancies/77731485\n",
      "https://api.hh.ru/vacancies/81716501\n",
      "https://api.hh.ru/vacancies/78645309\n",
      "https://api.hh.ru/vacancies/79985304\n",
      "https://api.hh.ru/vacancies/80155457\n",
      "https://api.hh.ru/vacancies/81749816\n",
      "Список детальной информации о вакансиях содержит 75 записей\n",
      "https://api.hh.ru/vacancies/82434645\n",
      "https://api.hh.ru/vacancies/76756653\n",
      "https://api.hh.ru/vacancies/71226025\n",
      "https://api.hh.ru/vacancies/79584451\n",
      "https://api.hh.ru/vacancies/81333244\n",
      "https://api.hh.ru/vacancies/79030986\n",
      "https://api.hh.ru/vacancies/81901904\n",
      "https://api.hh.ru/vacancies/80726073\n",
      "https://api.hh.ru/vacancies/81115699\n",
      "https://api.hh.ru/vacancies/78357489\n",
      "https://api.hh.ru/vacancies/81460227\n",
      "https://api.hh.ru/vacancies/81892052\n",
      "https://api.hh.ru/vacancies/81738646\n",
      "https://api.hh.ru/vacancies/77731486\n",
      "https://api.hh.ru/vacancies/81907796\n",
      "https://api.hh.ru/vacancies/81216480\n",
      "https://api.hh.ru/vacancies/81716522\n",
      "https://api.hh.ru/vacancies/80726071\n",
      "https://api.hh.ru/vacancies/77126191\n",
      "https://api.hh.ru/vacancies/81717105\n",
      "https://api.hh.ru/vacancies/81225938\n",
      "https://api.hh.ru/vacancies/81834757\n",
      "https://api.hh.ru/vacancies/82175945\n",
      "https://api.hh.ru/vacancies/71226010\n",
      "https://api.hh.ru/vacancies/76868720\n",
      "Список детальной информации о вакансиях содержит 100 записей\n"
     ]
    }
   ],
   "source": [
    "while (True):\n",
    "    results = req.get(ENDPOINT, headers = URL_HEADERS, params = api_params).json()\n",
    "    if (len(results['items']) == 0 or len(vacancyDetailInfo)>=LIMIT_OF_VACANCY_DETAIL):\n",
    "        break\n",
    "    parsJsonAppendData(results)\n",
    "    print(f'Список детальной информации о вакансиях содержит {len(vacancyDetailInfo)} записей')\n",
    "    api_params['page'] += 1\n",
    "    "
   ]
  },
  {
   "cell_type": "code",
   "execution_count": 6,
   "metadata": {},
   "outputs": [],
   "source": [
    "table_columns = ['company_name', 'position', 'job_description', 'key_skills']\n",
    "df = pd.DataFrame(data=vacancyDetailInfo,columns=table_columns,index=None)"
   ]
  },
  {
   "cell_type": "code",
   "execution_count": 8,
   "metadata": {},
   "outputs": [],
   "source": [
    "connection = sqlite3.connect(DB_NAME)\n",
    "df.to_sql(TABLE_NAME,connection,if_exists='replace',index=False)\n",
    "connection.close()"
   ]
  }
 ],
 "metadata": {
  "kernelspec": {
   "display_name": "Python 3",
   "language": "python",
   "name": "python3"
  },
  "language_info": {
   "codemirror_mode": {
    "name": "ipython",
    "version": 3
   },
   "file_extension": ".py",
   "mimetype": "text/x-python",
   "name": "python",
   "nbconvert_exporter": "python",
   "pygments_lexer": "ipython3",
   "version": "3.9.13"
  },
  "orig_nbformat": 4
 },
 "nbformat": 4,
 "nbformat_minor": 2
}
