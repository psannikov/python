{
 "cells": [
  {
   "attachments": {},
   "cell_type": "markdown",
   "metadata": {},
   "source": [
    "Импортируем библиотеки"
   ]
  },
  {
   "cell_type": "code",
   "execution_count": 1,
   "metadata": {},
   "outputs": [],
   "source": [
    "import requests as req\n",
    "import bs4  as bs\n",
    "from collections import Counter as c\n",
    "import pandas as pd\n",
    "import sqlite3"
   ]
  },
  {
   "attachments": {},
   "cell_type": "markdown",
   "metadata": {},
   "source": [
    "Определяем константы и перемнные"
   ]
  },
  {
   "cell_type": "code",
   "execution_count": 2,
   "metadata": {},
   "outputs": [],
   "source": [
    "URL_SEARCH = \"https://hh.ru/search/vacancy?text=python+middle\"\n",
    "URL_HEADERS = {'User-Agent': 'Mozilla/5.0'}\n",
    "DB_NAME = 'pars.db'\n",
    "TABLE_NAME = 'vacancies'"
   ]
  },
  {
   "cell_type": "code",
   "execution_count": 3,
   "metadata": {},
   "outputs": [],
   "source": [
    "numersOfPage = 0\n",
    "listLinkOfVacancy = []\n",
    "vacancyDetailInfo =[]\n",
    "url_params = {'page':0}"
   ]
  },
  {
   "attachments": {},
   "cell_type": "markdown",
   "metadata": {},
   "source": [
    "Определяем функции"
   ]
  },
  {
   "cell_type": "code",
   "execution_count": 4,
   "metadata": {},
   "outputs": [],
   "source": [
    "# Загружаем страницу и возвращаем BeautifulSoup\n",
    "def getBSPage(URL_SEARCH):\n",
    "    result = req.get(URL_SEARCH, headers=URL_HEADERS, params=url_params)\n",
    "    return bs.BeautifulSoup(result.content,'lxml')"
   ]
  },
  {
   "cell_type": "code",
   "execution_count": 5,
   "metadata": {},
   "outputs": [],
   "source": [
    "# Функция для парсинга страницы и записи ссылок на вакансии\n",
    "def addVacancyToList(soup):\n",
    "    for vac in list(soup.find_all('a',{'data-qa': 'serp-item__title','target':'_blank'})):\n",
    "        vac = str(vac)\n",
    "        if vac.find('hh.ru/vacancy/') > 0 :\n",
    "            listLinkOfVacancy.append('https://' + vac[vac.find('hh.ru/vacancy/'):vac.find('?')])"
   ]
  },
  {
   "attachments": {},
   "cell_type": "markdown",
   "metadata": {},
   "source": [
    "Собираем информацию о всех вакансиях"
   ]
  },
  {
   "cell_type": "code",
   "execution_count": 6,
   "metadata": {},
   "outputs": [],
   "source": [
    "# Получаем кол-во страниц с результатами поиска, собираем список вакансий\n",
    "soup = getBSPage(URL_SEARCH)\n",
    "numers_of_page = int(soup.find_all('a',{'data-qa': 'pager-page'})[-1].text)\n",
    "for i in range(numers_of_page + 1):\n",
    "    if i == 0:\n",
    "        addVacancyToList(soup)\n",
    "    else:\n",
    "        url_params['page'] = i\n",
    "        soup = getBSPage(URL_SEARCH)\n",
    "        addVacancyToList(soup)"
   ]
  },
  {
   "attachments": {},
   "cell_type": "markdown",
   "metadata": {},
   "source": [
    "Собираем информацию по всем вакансиям из созданного ранее списка"
   ]
  },
  {
   "cell_type": "code",
   "execution_count": 7,
   "metadata": {},
   "outputs": [],
   "source": [
    "for link in listLinkOfVacancy:\n",
    "    vacancyRow = []\n",
    "    listOfRequirements = []\n",
    "    soup = getBSPage(link)\n",
    "    companyName = soup.find('a',{'data-qa':'vacancy-company-name','class':'bloko-link bloko-link_kind-tertiary'})\n",
    "    if (companyName is not None):\n",
    "        companyName = companyName.text\n",
    "    vacancyName = soup.find('h1', {'class':'bloko-header-section-1','data-qa':'vacancy-title'})\n",
    "    if (vacancyName is not None):\n",
    "        vacancyName = vacancyName.text\n",
    "    vacancyDescription = ''\n",
    "    for row in soup.find_all('div',{'class':'vacancy-section'}):\n",
    "        description = row.find('div',{'class':'g-user-content','data-qa':'vacancy-description'})\n",
    "        if (description is not None):\n",
    "            vacancyDescription=description\n",
    "    vacancies = soup.find_all('div', {'class': 'vacancy-section'})\n",
    "    for vacancy in vacancies:\n",
    "        if vacancy.find('h2',{'class':'bloko-header-section-2'}):\n",
    "            requirements = vacancy.find_all('span')\n",
    "            for requirement in requirements:\n",
    "                listOfRequirements.append(requirement.text)\n",
    "    vacancyRow.append(companyName)\n",
    "    vacancyRow.append(vacancyName)\n",
    "    vacancyRow.append(vacancyDescription)\n",
    "    vacancyRow.append(listOfRequirements)\n",
    "    vacancyDetailInfo.append(vacancyRow)"
   ]
  },
  {
   "attachments": {},
   "cell_type": "markdown",
   "metadata": {},
   "source": [
    "Выводим результат"
   ]
  },
  {
   "cell_type": "code",
   "execution_count": null,
   "metadata": {},
   "outputs": [],
   "source": [
    "columns = ['company_name', 'position', 'job_description', 'key_skills']\n",
    "df = pd.DataFrame(data=vacancyDetailInfo,columns=columns)"
   ]
  },
  {
   "cell_type": "code",
   "execution_count": null,
   "metadata": {},
   "outputs": [],
   "source": [
    "conn = sqlite3.connect(DB_NAME)\n",
    "df.to_sql(TABLE_NAME,conn,if_exists='append',index=False)"
   ]
  }
 ],
 "metadata": {
  "kernelspec": {
   "display_name": "Python 3",
   "language": "python",
   "name": "python3"
  },
  "language_info": {
   "codemirror_mode": {
    "name": "ipython",
    "version": 3
   },
   "file_extension": ".py",
   "mimetype": "text/x-python",
   "name": "python",
   "nbconvert_exporter": "python",
   "pygments_lexer": "ipython3",
   "version": "3.9.13"
  },
  "orig_nbformat": 4
 },
 "nbformat": 4,
 "nbformat_minor": 2
}
