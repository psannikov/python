{
 "cells": [
  {
   "cell_type": "code",
   "execution_count": 1,
   "metadata": {},
   "outputs": [],
   "source": [
    "import requests as req\n",
    "import pandas as pd\n",
    "import sqlite3"
   ]
  },
  {
   "cell_type": "code",
   "execution_count": 2,
   "metadata": {},
   "outputs": [],
   "source": [
    "ENDPOINT = 'https://api.hh.ru/vacancies'\n",
    "DB_NAME = 'api.db'\n",
    "TABLE_NAME = 'vacancies'"
   ]
  },
  {
   "cell_type": "code",
   "execution_count": 3,
   "metadata": {},
   "outputs": [],
   "source": [
    "\n",
    "api_params = {'text':'python middle',\n",
    "              'per_page':25,\n",
    "              'page':0}\n",
    "vacancyDetailInfo =[]"
   ]
  },
  {
   "cell_type": "code",
   "execution_count": 4,
   "metadata": {},
   "outputs": [],
   "source": [
    "def parsJsonAppendData (data):\n",
    "    for result in data['items']:\n",
    "        vacancyRow = []\n",
    "        listOfRequirements = []\n",
    "        vacancyName = result['name']\n",
    "        companyName = result['employer']['name']\n",
    "        vacancyid = result['id']\n",
    "        vacancyDetail = req.get(ENDPOINT+'/'+vacancyid).json()\n",
    "        vacancyDescription = vacancyDetail['description']\n",
    "        for skill in vacancyDetail['key_skills']:\n",
    "            listOfRequirements.append(skill['name'])\n",
    "        vacancyRow.append(companyName)\n",
    "        vacancyRow.append(vacancyName)\n",
    "        vacancyRow.append(vacancyDescription)\n",
    "        vacancyRow.append(listOfRequirements)\n",
    "        vacancyDetailInfo.append(vacancyRow)"
   ]
  },
  {
   "cell_type": "code",
   "execution_count": 5,
   "metadata": {},
   "outputs": [
    {
     "name": "stdout",
     "output_type": "stream",
     "text": [
      "Записей в итоговом результате 25\n",
      "Записей в итоговом результате 50\n",
      "Записей в итоговом результате 75\n",
      "Записей в итоговом результате 100\n",
      "Записей в итоговом результате 125\n",
      "Записей в итоговом результате 150\n",
      "Записей в итоговом результате 175\n",
      "Записей в итоговом результате 200\n",
      "Записей в итоговом результате 225\n",
      "Записей в итоговом результате 250\n",
      "Записей в итоговом результате 275\n",
      "Записей в итоговом результате 300\n",
      "Записей в итоговом результате 325\n",
      "Записей в итоговом результате 350\n",
      "Записей в итоговом результате 375\n",
      "Записей в итоговом результате 400\n",
      "Записей в итоговом результате 425\n",
      "Записей в итоговом результате 450\n",
      "Записей в итоговом результате 475\n",
      "Записей в итоговом результате 500\n",
      "Записей в итоговом результате 525\n",
      "Записей в итоговом результате 550\n",
      "Записей в итоговом результате 575\n",
      "Записей в итоговом результате 600\n",
      "Записей в итоговом результате 625\n",
      "Записей в итоговом результате 650\n",
      "Записей в итоговом результате 675\n",
      "Записей в итоговом результате 700\n",
      "Записей в итоговом результате 725\n",
      "Записей в итоговом результате 750\n",
      "Записей в итоговом результате 775\n",
      "Записей в итоговом результате 800\n",
      "Записей в итоговом результате 825\n",
      "Записей в итоговом результате 850\n",
      "Записей в итоговом результате 875\n",
      "Записей в итоговом результате 900\n",
      "Записей в итоговом результате 904\n"
     ]
    }
   ],
   "source": [
    "while (True):\n",
    "    results = req.get(ENDPOINT, params = api_params).json()\n",
    "    if (len(results['items']) == 0):\n",
    "        break\n",
    "    parsJsonAppendData(results)\n",
    "    print('Записей в итоговом результате',len(vacancyDetailInfo))\n",
    "    api_params['page'] += 1\n",
    "    "
   ]
  },
  {
   "cell_type": "code",
   "execution_count": 6,
   "metadata": {},
   "outputs": [],
   "source": [
    "table_columns = ['company_name', 'position', 'job_description', 'key_skills']\n",
    "df = pd.DataFrame(data=vacancyDetailInfo,columns=table_columns,index=None)"
   ]
  },
  {
   "cell_type": "code",
   "execution_count": 7,
   "metadata": {},
   "outputs": [
    {
     "ename": "InterfaceError",
     "evalue": "Error binding parameter 3 - probably unsupported type.",
     "output_type": "error",
     "traceback": [
      "\u001b[1;31m---------------------------------------------------------------------------\u001b[0m",
      "\u001b[1;31mInterfaceError\u001b[0m                            Traceback (most recent call last)",
      "Cell \u001b[1;32mIn[7], line 2\u001b[0m\n\u001b[0;32m      1\u001b[0m connection \u001b[39m=\u001b[39m sqlite3\u001b[39m.\u001b[39mconnect(DB_NAME)\n\u001b[1;32m----> 2\u001b[0m df\u001b[39m.\u001b[39;49mto_sql(TABLE_NAME,connection,if_exists\u001b[39m=\u001b[39;49m\u001b[39m'\u001b[39;49m\u001b[39mappend\u001b[39;49m\u001b[39m'\u001b[39;49m,index\u001b[39m=\u001b[39;49m\u001b[39mFalse\u001b[39;49;00m)\n",
      "File \u001b[1;32mc:\\Users\\psann\\AppData\\Local\\Programs\\Python\\Python39\\lib\\site-packages\\pandas\\core\\generic.py:2878\u001b[0m, in \u001b[0;36mNDFrame.to_sql\u001b[1;34m(self, name, con, schema, if_exists, index, index_label, chunksize, dtype, method)\u001b[0m\n\u001b[0;32m   2713\u001b[0m \u001b[39m\u001b[39m\u001b[39m\"\"\"\u001b[39;00m\n\u001b[0;32m   2714\u001b[0m \u001b[39mWrite records stored in a DataFrame to a SQL database.\u001b[39;00m\n\u001b[0;32m   2715\u001b[0m \n\u001b[1;32m   (...)\u001b[0m\n\u001b[0;32m   2874\u001b[0m \u001b[39m[(1,), (None,), (2,)]\u001b[39;00m\n\u001b[0;32m   2875\u001b[0m \u001b[39m\"\"\"\u001b[39;00m  \u001b[39m# noqa:E501\u001b[39;00m\n\u001b[0;32m   2876\u001b[0m \u001b[39mfrom\u001b[39;00m \u001b[39mpandas\u001b[39;00m\u001b[39m.\u001b[39;00m\u001b[39mio\u001b[39;00m \u001b[39mimport\u001b[39;00m sql\n\u001b[1;32m-> 2878\u001b[0m \u001b[39mreturn\u001b[39;00m sql\u001b[39m.\u001b[39;49mto_sql(\n\u001b[0;32m   2879\u001b[0m     \u001b[39mself\u001b[39;49m,\n\u001b[0;32m   2880\u001b[0m     name,\n\u001b[0;32m   2881\u001b[0m     con,\n\u001b[0;32m   2882\u001b[0m     schema\u001b[39m=\u001b[39;49mschema,\n\u001b[0;32m   2883\u001b[0m     if_exists\u001b[39m=\u001b[39;49mif_exists,\n\u001b[0;32m   2884\u001b[0m     index\u001b[39m=\u001b[39;49mindex,\n\u001b[0;32m   2885\u001b[0m     index_label\u001b[39m=\u001b[39;49mindex_label,\n\u001b[0;32m   2886\u001b[0m     chunksize\u001b[39m=\u001b[39;49mchunksize,\n\u001b[0;32m   2887\u001b[0m     dtype\u001b[39m=\u001b[39;49mdtype,\n\u001b[0;32m   2888\u001b[0m     method\u001b[39m=\u001b[39;49mmethod,\n\u001b[0;32m   2889\u001b[0m )\n",
      "File \u001b[1;32mc:\\Users\\psann\\AppData\\Local\\Programs\\Python\\Python39\\lib\\site-packages\\pandas\\io\\sql.py:769\u001b[0m, in \u001b[0;36mto_sql\u001b[1;34m(frame, name, con, schema, if_exists, index, index_label, chunksize, dtype, method, engine, **engine_kwargs)\u001b[0m\n\u001b[0;32m    764\u001b[0m     \u001b[39mraise\u001b[39;00m \u001b[39mNotImplementedError\u001b[39;00m(\n\u001b[0;32m    765\u001b[0m         \u001b[39m\"\u001b[39m\u001b[39m'\u001b[39m\u001b[39mframe\u001b[39m\u001b[39m'\u001b[39m\u001b[39m argument should be either a Series or a DataFrame\u001b[39m\u001b[39m\"\u001b[39m\n\u001b[0;32m    766\u001b[0m     )\n\u001b[0;32m    768\u001b[0m \u001b[39mwith\u001b[39;00m pandasSQL_builder(con, schema\u001b[39m=\u001b[39mschema, need_transaction\u001b[39m=\u001b[39m\u001b[39mTrue\u001b[39;00m) \u001b[39mas\u001b[39;00m pandas_sql:\n\u001b[1;32m--> 769\u001b[0m     \u001b[39mreturn\u001b[39;00m pandas_sql\u001b[39m.\u001b[39mto_sql(\n\u001b[0;32m    770\u001b[0m         frame,\n\u001b[0;32m    771\u001b[0m         name,\n\u001b[0;32m    772\u001b[0m         if_exists\u001b[39m=\u001b[39mif_exists,\n\u001b[0;32m    773\u001b[0m         index\u001b[39m=\u001b[39mindex,\n\u001b[0;32m    774\u001b[0m         index_label\u001b[39m=\u001b[39mindex_label,\n\u001b[0;32m    775\u001b[0m         schema\u001b[39m=\u001b[39mschema,\n\u001b[0;32m    776\u001b[0m         chunksize\u001b[39m=\u001b[39mchunksize,\n\u001b[0;32m    777\u001b[0m         dtype\u001b[39m=\u001b[39mdtype,\n\u001b[0;32m    778\u001b[0m         method\u001b[39m=\u001b[39mmethod,\n\u001b[0;32m    779\u001b[0m         engine\u001b[39m=\u001b[39mengine,\n\u001b[0;32m    780\u001b[0m         \u001b[39m*\u001b[39m\u001b[39m*\u001b[39mengine_kwargs,\n\u001b[0;32m    781\u001b[0m     )\n",
      "File \u001b[1;32mc:\\Users\\psann\\AppData\\Local\\Programs\\Python\\Python39\\lib\\site-packages\\pandas\\io\\sql.py:2379\u001b[0m, in \u001b[0;36mSQLiteDatabase.to_sql\u001b[1;34m(self, frame, name, if_exists, index, index_label, schema, chunksize, dtype, method, engine, **engine_kwargs)\u001b[0m\n\u001b[0;32m   2369\u001b[0m table \u001b[39m=\u001b[39m SQLiteTable(\n\u001b[0;32m   2370\u001b[0m     name,\n\u001b[0;32m   2371\u001b[0m     \u001b[39mself\u001b[39m,\n\u001b[1;32m   (...)\u001b[0m\n\u001b[0;32m   2376\u001b[0m     dtype\u001b[39m=\u001b[39mdtype,\n\u001b[0;32m   2377\u001b[0m )\n\u001b[0;32m   2378\u001b[0m table\u001b[39m.\u001b[39mcreate()\n\u001b[1;32m-> 2379\u001b[0m \u001b[39mreturn\u001b[39;00m table\u001b[39m.\u001b[39;49minsert(chunksize, method)\n",
      "File \u001b[1;32mc:\\Users\\psann\\AppData\\Local\\Programs\\Python\\Python39\\lib\\site-packages\\pandas\\io\\sql.py:1023\u001b[0m, in \u001b[0;36mSQLTable.insert\u001b[1;34m(self, chunksize, method)\u001b[0m\n\u001b[0;32m   1020\u001b[0m     \u001b[39mbreak\u001b[39;00m\n\u001b[0;32m   1022\u001b[0m chunk_iter \u001b[39m=\u001b[39m \u001b[39mzip\u001b[39m(\u001b[39m*\u001b[39m(arr[start_i:end_i] \u001b[39mfor\u001b[39;00m arr \u001b[39min\u001b[39;00m data_list))\n\u001b[1;32m-> 1023\u001b[0m num_inserted \u001b[39m=\u001b[39m exec_insert(conn, keys, chunk_iter)\n\u001b[0;32m   1024\u001b[0m \u001b[39m# GH 46891\u001b[39;00m\n\u001b[0;32m   1025\u001b[0m \u001b[39mif\u001b[39;00m is_integer(num_inserted):\n",
      "File \u001b[1;32mc:\\Users\\psann\\AppData\\Local\\Programs\\Python\\Python39\\lib\\site-packages\\pandas\\io\\sql.py:2075\u001b[0m, in \u001b[0;36mSQLiteTable._execute_insert\u001b[1;34m(self, conn, keys, data_iter)\u001b[0m\n\u001b[0;32m   2073\u001b[0m \u001b[39mdef\u001b[39;00m \u001b[39m_execute_insert\u001b[39m(\u001b[39mself\u001b[39m, conn, keys, data_iter) \u001b[39m-\u001b[39m\u001b[39m>\u001b[39m \u001b[39mint\u001b[39m:\n\u001b[0;32m   2074\u001b[0m     data_list \u001b[39m=\u001b[39m \u001b[39mlist\u001b[39m(data_iter)\n\u001b[1;32m-> 2075\u001b[0m     conn\u001b[39m.\u001b[39;49mexecutemany(\u001b[39mself\u001b[39;49m\u001b[39m.\u001b[39;49minsert_statement(num_rows\u001b[39m=\u001b[39;49m\u001b[39m1\u001b[39;49m), data_list)\n\u001b[0;32m   2076\u001b[0m     \u001b[39mreturn\u001b[39;00m conn\u001b[39m.\u001b[39mrowcount\n",
      "\u001b[1;31mInterfaceError\u001b[0m: Error binding parameter 3 - probably unsupported type."
     ]
    }
   ],
   "source": [
    "connection = sqlite3.connect(DB_NAME)\n",
    "df.to_sql(TABLE_NAME,connection,if_exists='append',index=False)"
   ]
  },
  {
   "cell_type": "code",
   "execution_count": 27,
   "metadata": {},
   "outputs": [
    {
     "ename": "OperationalError",
     "evalue": "database is locked",
     "output_type": "error",
     "traceback": [
      "\u001b[1;31m---------------------------------------------------------------------------\u001b[0m",
      "\u001b[1;31mOperationalError\u001b[0m                          Traceback (most recent call last)",
      "Cell \u001b[1;32mIn[27], line 5\u001b[0m\n\u001b[0;32m      3\u001b[0m \u001b[39mfor\u001b[39;00m line \u001b[39min\u001b[39;00m vacancyDetailInfo:\n\u001b[0;32m      4\u001b[0m     insert_several_rows_parameters \u001b[39m=\u001b[39m \u001b[39mf\u001b[39m\u001b[39m'\u001b[39m\u001b[39mINSERT INTO \u001b[39m\u001b[39m{\u001b[39;00mTABLE_NAME\u001b[39m}\u001b[39;00m\u001b[39m (company_name, position, job_description, key_skills) VALUES (\u001b[39m\u001b[39m\"\u001b[39m\u001b[39m{\u001b[39;00mline[\u001b[39m0\u001b[39m]\u001b[39m}\u001b[39;00m\u001b[39m\"\u001b[39m\u001b[39m, \u001b[39m\u001b[39m\"\u001b[39m\u001b[39m{\u001b[39;00mline[\u001b[39m1\u001b[39m]\u001b[39m}\u001b[39;00m\u001b[39m\"\u001b[39m\u001b[39m,\u001b[39m\u001b[39m\"\u001b[39m\u001b[39m{\u001b[39;00mline[\u001b[39m2\u001b[39m]\u001b[39m}\u001b[39;00m\u001b[39m\"\u001b[39m\u001b[39m, \u001b[39m\u001b[39m\"\u001b[39m\u001b[39m{\u001b[39;00mline[\u001b[39m3\u001b[39m]\u001b[39m}\u001b[39;00m\u001b[39m\"\u001b[39m\u001b[39m)\u001b[39m\u001b[39m'\u001b[39m\n\u001b[1;32m----> 5\u001b[0m     cursor\u001b[39m.\u001b[39;49mexecute(insert_several_rows_parameters)\n",
      "\u001b[1;31mOperationalError\u001b[0m: database is locked"
     ]
    }
   ],
   "source": [
    "connection = sqlite3.connect(DB_NAME)\n",
    "cursor = connection.cursor()\n",
    "for line in vacancyDetailInfo:\n",
    "    insert_several_rows_parameters = f'INSERT INTO {TABLE_NAME} (company_name, position, job_description, key_skills) VALUES (\"{line[0]}\", \"{line[1]}\",\"{line[2]}\", \"{line[3]}\")'\n",
    "    cursor.execute(insert_several_rows_parameters)\n"
   ]
  }
 ],
 "metadata": {
  "kernelspec": {
   "display_name": "Python 3",
   "language": "python",
   "name": "python3"
  },
  "language_info": {
   "codemirror_mode": {
    "name": "ipython",
    "version": 3
   },
   "file_extension": ".py",
   "mimetype": "text/x-python",
   "name": "python",
   "nbconvert_exporter": "python",
   "pygments_lexer": "ipython3",
   "version": "3.9.13"
  },
  "orig_nbformat": 4
 },
 "nbformat": 4,
 "nbformat_minor": 2
}
