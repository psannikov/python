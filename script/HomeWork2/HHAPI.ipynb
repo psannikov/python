{
 "cells": [
  {
   "cell_type": "code",
   "execution_count": 1,
   "metadata": {},
   "outputs": [],
   "source": [
    "import requests as req\n",
    "import pandas as pd\n",
    "import sqlite3"
   ]
  },
  {
   "cell_type": "code",
   "execution_count": 2,
   "metadata": {},
   "outputs": [],
   "source": [
    "ENDPOINT = 'https://api.hh.ru/vacancies'\n",
    "DB_NAME = 'api.db'\n",
    "TABLE_NAME = 'vacancies'\n",
    "LIMIT_OF_VACANCY_DETAIL = 100"
   ]
  },
  {
   "cell_type": "code",
   "execution_count": 3,
   "metadata": {},
   "outputs": [],
   "source": [
    "\n",
    "api_params = {'text':'python middle',\n",
    "              'per_page':25,\n",
    "              'page':0}\n",
    "vacancyDetailInfo =[]"
   ]
  },
  {
   "cell_type": "code",
   "execution_count": 4,
   "metadata": {},
   "outputs": [],
   "source": [
    "def parsJsonAppendData (data):\n",
    "    for result in data['items']:\n",
    "        vacancyRow = []\n",
    "        listOfRequirements = []\n",
    "        vacancyName = result['name']\n",
    "        companyName = result['employer']['name']\n",
    "        vacancyid = result['id']\n",
    "        vacancyDetail = req.get(ENDPOINT+'/'+vacancyid).json()\n",
    "        vacancyDescription = vacancyDetail['description']\n",
    "        for skill in vacancyDetail['key_skills']:\n",
    "            listOfRequirements.append(skill['name'])\n",
    "        stringOfRequirements = ', '.join(listOfRequirements)\n",
    "        vacancyRow.append(companyName)\n",
    "        vacancyRow.append(vacancyName)\n",
    "        vacancyRow.append(vacancyDescription)\n",
    "        vacancyRow.append(stringOfRequirements)\n",
    "        vacancyDetailInfo.append(vacancyRow)"
   ]
  },
  {
   "cell_type": "code",
   "execution_count": 5,
   "metadata": {},
   "outputs": [
    {
     "name": "stdout",
     "output_type": "stream",
     "text": [
      "Список детальной информации о вакансиях содержит 25 записей\n",
      "Список детальной информации о вакансиях содержит 50 записей\n",
      "Список детальной информации о вакансиях содержит 75 записей\n",
      "Список детальной информации о вакансиях содержит 100 записей\n"
     ]
    }
   ],
   "source": [
    "while (True):\n",
    "    results = req.get(ENDPOINT, params = api_params).json()\n",
    "    if (len(results['items']) == 0 or len(vacancyDetailInfo)>=LIMIT_OF_VACANCY_DETAIL):\n",
    "        break\n",
    "    parsJsonAppendData(results)\n",
    "    print(f'Список детальной информации о вакансиях содержит {len(vacancyDetailInfo)} записей')\n",
    "    api_params['page'] += 1\n",
    "    "
   ]
  },
  {
   "cell_type": "code",
   "execution_count": 6,
   "metadata": {},
   "outputs": [],
   "source": [
    "table_columns = ['company_name', 'position', 'job_description', 'key_skills']\n",
    "df = pd.DataFrame(data=vacancyDetailInfo,columns=table_columns,index=None)"
   ]
  },
  {
   "cell_type": "code",
   "execution_count": 8,
   "metadata": {},
   "outputs": [],
   "source": [
    "connection = sqlite3.connect(DB_NAME)\n",
    "df.to_sql(TABLE_NAME,connection,if_exists='replace',index=False)\n",
    "connection.close()"
   ]
  }
 ],
 "metadata": {
  "kernelspec": {
   "display_name": "Python 3",
   "language": "python",
   "name": "python3"
  },
  "language_info": {
   "codemirror_mode": {
    "name": "ipython",
    "version": 3
   },
   "file_extension": ".py",
   "mimetype": "text/x-python",
   "name": "python",
   "nbconvert_exporter": "python",
   "pygments_lexer": "ipython3",
   "version": "3.9.13"
  },
  "orig_nbformat": 4
 },
 "nbformat": 4,
 "nbformat_minor": 2
}
