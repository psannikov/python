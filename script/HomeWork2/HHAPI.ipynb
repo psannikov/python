{
 "cells": [
  {
   "cell_type": "code",
   "execution_count": null,
   "metadata": {},
   "outputs": [],
   "source": [
    "import requests as req\n",
    "import pandas as pd\n",
    "import sqlite3"
   ]
  },
  {
   "cell_type": "code",
   "execution_count": null,
   "metadata": {},
   "outputs": [],
   "source": [
    "endpoint_vacancies = 'https://api.hh.ru/vacancies'\n",
    "api_headers = {'User-Agent': 'Mozilla/5.0',\n",
    "               'Authorization': 'Bearer YOUR_API_KEY'}\n",
    "DB_NAME = 'api.db'\n",
    "TABLE_NAME = 'vacancies'"
   ]
  },
  {
   "cell_type": "code",
   "execution_count": null,
   "metadata": {},
   "outputs": [],
   "source": [
    "\n",
    "api_params = {'text':'python middle',\n",
    "              'per_page':25,\n",
    "              'page':0}"
   ]
  },
  {
   "cell_type": "code",
   "execution_count": null,
   "metadata": {},
   "outputs": [],
   "source": [
    "vacancyDetailInfo =[]"
   ]
  },
  {
   "cell_type": "code",
   "execution_count": null,
   "metadata": {},
   "outputs": [],
   "source": [
    "def parsJsonAppendData (data):\n",
    "    for result in data['items']:\n",
    "        vacancyRow = []\n",
    "        listOfRequirements = []\n",
    "        vacancyName = result['name']\n",
    "        companyName = result['employer']['name']\n",
    "        vacancyid = result['id']\n",
    "        vacancyDetail = req.get(endpoint_vacancies+'/'+vacancyid).json()\n",
    "        vacancyDescription = vacancyDetail['description']\n",
    "        for skill in vacancyDetail['key_skills']:\n",
    "            listOfRequirements.append(skill['name'])\n",
    "        vacancyRow.append(companyName)\n",
    "        vacancyRow.append(vacancyName)\n",
    "        vacancyRow.append(vacancyDescription)\n",
    "        vacancyRow.append(listOfRequirements)\n",
    "        vacancyDetailInfo.append(vacancyRow)"
   ]
  },
  {
   "cell_type": "code",
   "execution_count": null,
   "metadata": {},
   "outputs": [],
   "source": [
    "while (True):\n",
    "    results = req.get(endpoint_vacancies, params = api_params).json()\n",
    "    if (len(results['items']) == 0):\n",
    "        break\n",
    "    parsJsonAppendData(results)\n",
    "    print('Записей в итоговом результате',len(vacancyDetailInfo))\n",
    "    api_params['page'] += 1\n",
    "    "
   ]
  },
  {
   "cell_type": "code",
   "execution_count": null,
   "metadata": {},
   "outputs": [],
   "source": [
    "columns = ['company_name', 'position', 'job_description', 'key_skills']\n",
    "df = pd.DataFrame(data=vacancyDetailInfo,columns=columns,index=None)"
   ]
  },
  {
   "cell_type": "code",
   "execution_count": 20,
   "metadata": {},
   "outputs": [
    {
     "data": {
      "text/html": [
       "<div>\n",
       "<style scoped>\n",
       "    .dataframe tbody tr th:only-of-type {\n",
       "        vertical-align: middle;\n",
       "    }\n",
       "\n",
       "    .dataframe tbody tr th {\n",
       "        vertical-align: top;\n",
       "    }\n",
       "\n",
       "    .dataframe thead th {\n",
       "        text-align: right;\n",
       "    }\n",
       "</style>\n",
       "<table border=\"1\" class=\"dataframe\">\n",
       "  <thead>\n",
       "    <tr style=\"text-align: right;\">\n",
       "      <th></th>\n",
       "      <th>company_name</th>\n",
       "      <th>position</th>\n",
       "      <th>job_description</th>\n",
       "      <th>key_skills</th>\n",
       "    </tr>\n",
       "  </thead>\n",
       "  <tbody>\n",
       "    <tr>\n",
       "      <th>0</th>\n",
       "      <td>Интернет вещей</td>\n",
       "      <td>Junior/Middle Python разработчик</td>\n",
       "      <td>&lt;p&gt;Мы ищем опытного Python разработчика, котор...</td>\n",
       "      <td>[Python, PostgreSQL, API, REST API, Django, Dj...</td>\n",
       "    </tr>\n",
       "    <tr>\n",
       "      <th>1</th>\n",
       "      <td>TerraLink</td>\n",
       "      <td>Python разработчик</td>\n",
       "      <td>&lt;p&gt;&lt;em&gt;Компания&lt;/em&gt;&lt;em&gt; ТерраЛинк &lt;/em&gt;&lt;em&gt;– ...</td>\n",
       "      <td>[]</td>\n",
       "    </tr>\n",
       "    <tr>\n",
       "      <th>2</th>\n",
       "      <td>ГРЕЧКА</td>\n",
       "      <td>Backend - разработчик на Python</td>\n",
       "      <td>&lt;p&gt;Мы - Компания &lt;strong&gt;Гречка.Digital&lt;/stron...</td>\n",
       "      <td>[Python, Django Framework, Git, PostgreSQL, My...</td>\n",
       "    </tr>\n",
       "    <tr>\n",
       "      <th>3</th>\n",
       "      <td>НИИАС</td>\n",
       "      <td>Junior/Middle Python-developer</td>\n",
       "      <td>&lt;p&gt;&lt;strong&gt;АО «НИИАС» (дочернее общество ОАО «...</td>\n",
       "      <td>[]</td>\n",
       "    </tr>\n",
       "    <tr>\n",
       "      <th>4</th>\n",
       "      <td>Notamedia</td>\n",
       "      <td>Manual QA инженер (middle)</td>\n",
       "      <td>&lt;p&gt;Notamedia — аккредитованный ИТ-холдинг, оди...</td>\n",
       "      <td>[Тестирование, Postman, Swagger, Charles, Atla...</td>\n",
       "    </tr>\n",
       "    <tr>\n",
       "      <th>...</th>\n",
       "      <td>...</td>\n",
       "      <td>...</td>\n",
       "      <td>...</td>\n",
       "      <td>...</td>\n",
       "    </tr>\n",
       "    <tr>\n",
       "      <th>899</th>\n",
       "      <td>Skillbox</td>\n",
       "      <td>Спикер на курс «Автотесты на Python. Продвинут...</td>\n",
       "      <td>&lt;p&gt;&lt;strong&gt;Skillbox&lt;/strong&gt; – крупнейшая обра...</td>\n",
       "      <td>[Обучение, Подготовка презентаций, Навыки през...</td>\n",
       "    </tr>\n",
       "    <tr>\n",
       "      <th>900</th>\n",
       "      <td>HeadHunter</td>\n",
       "      <td>Middle/Senior Продуктовый аналитик в направлен...</td>\n",
       "      <td>&lt;p&gt;&lt;strong&gt;Продуктовая команда HeadHunter в по...</td>\n",
       "      <td>[SQL, Tableau, Python, Hadoop, Analytics / DS,...</td>\n",
       "    </tr>\n",
       "    <tr>\n",
       "      <th>901</th>\n",
       "      <td>Контур</td>\n",
       "      <td>Middle DevOps-инженер в Контур.Толк</td>\n",
       "      <td>&lt;p&gt;Контур — экосистема для бизнеса. Мы создаем...</td>\n",
       "      <td>[Linux, Ansible, Kubernetes, Swarm, Traefik, N...</td>\n",
       "    </tr>\n",
       "    <tr>\n",
       "      <th>902</th>\n",
       "      <td>HeadHunter</td>\n",
       "      <td>Middle/Senior Продуктовый аналитик в направлен...</td>\n",
       "      <td>&lt;p&gt;&lt;strong&gt;Продуктовая команда HeadHunter в по...</td>\n",
       "      <td>[SQL, Tableau, Python, Hadoop, Analytics / DS,...</td>\n",
       "    </tr>\n",
       "    <tr>\n",
       "      <th>903</th>\n",
       "      <td>HeadHunter</td>\n",
       "      <td>Middle/Senior Продуктовый аналитик в направлен...</td>\n",
       "      <td>&lt;p&gt;&lt;strong&gt;Продуктовая команда HeadHunter в по...</td>\n",
       "      <td>[SQL, Tableau, Python, Hadoop, Analytics / DS,...</td>\n",
       "    </tr>\n",
       "  </tbody>\n",
       "</table>\n",
       "<p>904 rows × 4 columns</p>\n",
       "</div>"
      ],
      "text/plain": [
       "       company_name                                           position  \\\n",
       "0    Интернет вещей                   Junior/Middle Python разработчик   \n",
       "1         TerraLink                                 Python разработчик   \n",
       "2            ГРЕЧКА                    Backend - разработчик на Python   \n",
       "3             НИИАС                     Junior/Middle Python-developer   \n",
       "4         Notamedia                         Manual QA инженер (middle)   \n",
       "..              ...                                                ...   \n",
       "899        Skillbox  Спикер на курс «Автотесты на Python. Продвинут...   \n",
       "900      HeadHunter  Middle/Senior Продуктовый аналитик в направлен...   \n",
       "901          Контур                Middle DevOps-инженер в Контур.Толк   \n",
       "902      HeadHunter  Middle/Senior Продуктовый аналитик в направлен...   \n",
       "903      HeadHunter  Middle/Senior Продуктовый аналитик в направлен...   \n",
       "\n",
       "                                       job_description  \\\n",
       "0    <p>Мы ищем опытного Python разработчика, котор...   \n",
       "1    <p><em>Компания</em><em> ТерраЛинк </em><em>– ...   \n",
       "2    <p>Мы - Компания <strong>Гречка.Digital</stron...   \n",
       "3    <p><strong>АО «НИИАС» (дочернее общество ОАО «...   \n",
       "4    <p>Notamedia — аккредитованный ИТ-холдинг, оди...   \n",
       "..                                                 ...   \n",
       "899  <p><strong>Skillbox</strong> – крупнейшая обра...   \n",
       "900  <p><strong>Продуктовая команда HeadHunter в по...   \n",
       "901  <p>Контур — экосистема для бизнеса. Мы создаем...   \n",
       "902  <p><strong>Продуктовая команда HeadHunter в по...   \n",
       "903  <p><strong>Продуктовая команда HeadHunter в по...   \n",
       "\n",
       "                                            key_skills  \n",
       "0    [Python, PostgreSQL, API, REST API, Django, Dj...  \n",
       "1                                                   []  \n",
       "2    [Python, Django Framework, Git, PostgreSQL, My...  \n",
       "3                                                   []  \n",
       "4    [Тестирование, Postman, Swagger, Charles, Atla...  \n",
       "..                                                 ...  \n",
       "899  [Обучение, Подготовка презентаций, Навыки през...  \n",
       "900  [SQL, Tableau, Python, Hadoop, Analytics / DS,...  \n",
       "901  [Linux, Ansible, Kubernetes, Swarm, Traefik, N...  \n",
       "902  [SQL, Tableau, Python, Hadoop, Analytics / DS,...  \n",
       "903  [SQL, Tableau, Python, Hadoop, Analytics / DS,...  \n",
       "\n",
       "[904 rows x 4 columns]"
      ]
     },
     "execution_count": 20,
     "metadata": {},
     "output_type": "execute_result"
    }
   ],
   "source": [
    "df"
   ]
  },
  {
   "cell_type": "code",
   "execution_count": null,
   "metadata": {},
   "outputs": [],
   "source": [
    "conn = sqlite3.connect(DB_NAME)\n",
    "query = f'Create table if not Exists {TABLE_NAME} (company_name text, position text, job_description text, key_skills text)'\n",
    "conn.execute(query)"
   ]
  },
  {
   "cell_type": "code",
   "execution_count": null,
   "metadata": {},
   "outputs": [],
   "source": [
    "df.to_sql(TABLE_NAME,conn,if_exists='append',index=False)"
   ]
  },
  {
   "cell_type": "code",
   "execution_count": null,
   "metadata": {},
   "outputs": [],
   "source": []
  }
 ],
 "metadata": {
  "kernelspec": {
   "display_name": "Python 3",
   "language": "python",
   "name": "python3"
  },
  "language_info": {
   "codemirror_mode": {
    "name": "ipython",
    "version": 3
   },
   "file_extension": ".py",
   "mimetype": "text/x-python",
   "name": "python",
   "nbconvert_exporter": "python",
   "pygments_lexer": "ipython3",
   "version": "3.9.13"
  },
  "orig_nbformat": 4
 },
 "nbformat": 4,
 "nbformat_minor": 2
}
