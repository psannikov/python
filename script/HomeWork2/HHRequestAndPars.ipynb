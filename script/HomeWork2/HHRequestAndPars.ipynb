{
 "cells": [
  {
   "attachments": {},
   "cell_type": "markdown",
   "metadata": {},
   "source": [
    "Импортируем библиотеки"
   ]
  },
  {
   "cell_type": "code",
   "execution_count": 1,
   "metadata": {},
   "outputs": [],
   "source": [
    "import requests as req\n",
    "import bs4  as bs\n",
    "import pandas as pd\n",
    "import sqlite3"
   ]
  },
  {
   "attachments": {},
   "cell_type": "markdown",
   "metadata": {},
   "source": [
    "Определяем константы и перемнные"
   ]
  },
  {
   "cell_type": "code",
   "execution_count": 14,
   "metadata": {},
   "outputs": [],
   "source": [
    "URL_SEARCH = \"https://hh.ru/search/vacancy\"\n",
    "URL_HEADERS = {'User-Agent': 'Mozilla/5.0'}\n",
    "DB_NAME = 'hh.db'\n",
    "TABLE_NAME = 'vacancies_pars'\n",
    "LIMIT_OF_VACANCY_DETAIL = 20"
   ]
  },
  {
   "cell_type": "code",
   "execution_count": 15,
   "metadata": {},
   "outputs": [],
   "source": [
    "numersOfPage = 0\n",
    "listLinkOfVacancy = []\n",
    "vacancyDetailInfo =[]\n",
    "url_params = {'text':'python middle developer',\n",
    "              'search_field':'name',\n",
    "              'per_page':25,\n",
    "              'page':0}"
   ]
  },
  {
   "attachments": {},
   "cell_type": "markdown",
   "metadata": {},
   "source": [
    "Определяем функции"
   ]
  },
  {
   "cell_type": "code",
   "execution_count": 16,
   "metadata": {},
   "outputs": [],
   "source": [
    "# Загружаем страницу и возвращаем BeautifulSoup\n",
    "def getBSPage(url,header,param):\n",
    "    result = req.get(url, headers=header, params=param)\n",
    "    return bs.BeautifulSoup(result.content,'lxml')"
   ]
  },
  {
   "cell_type": "code",
   "execution_count": 17,
   "metadata": {},
   "outputs": [],
   "source": [
    "# Функция для парсинга страницы и записи ссылок на вакансии\n",
    "def addVacancyToList(soup):\n",
    "    for vac in list(soup.find_all('a',{'data-qa': 'serp-item__title','target':'_blank'})):\n",
    "        vac = str(vac)\n",
    "        if vac.find('hh.ru/vacancy/') > 0 :\n",
    "            listLinkOfVacancy.append('https://' + vac[vac.find('hh.ru/vacancy/'):vac.find('?')])\n",
    "    print(f'Список ссылок вакансий содержит {len(listLinkOfVacancy)} записей')"
   ]
  },
  {
   "cell_type": "code",
   "execution_count": 18,
   "metadata": {},
   "outputs": [],
   "source": [
    "# Функция для получения названия копании\n",
    "def getCompanyName(soup):\n",
    "    companyName = soup.find('a',{'data-qa':'vacancy-company-name','class':'bloko-link bloko-link_kind-tertiary'})\n",
    "    if (companyName is not None):\n",
    "        return companyName.text"
   ]
  },
  {
   "cell_type": "code",
   "execution_count": 19,
   "metadata": {},
   "outputs": [],
   "source": [
    "# Функция для получения названия вакансии\n",
    "def getVacancyName(soup):\n",
    "    vacancyName = soup.find('h1', {'class':'bloko-header-section-1','data-qa':'vacancy-title'})\n",
    "    if (vacancyName is not None):\n",
    "        return vacancyName.text"
   ]
  },
  {
   "cell_type": "code",
   "execution_count": 20,
   "metadata": {},
   "outputs": [],
   "source": [
    "# Функция для получения описания вакансии\n",
    "def getVacancyDescription(soup):\n",
    "    vacancyDecription = soup.find('div',{'data-qa':'vacancy-description'})\n",
    "    if (vacancyDecription is not None):\n",
    "        return vacancyDecription.text"
   ]
  },
  {
   "cell_type": "code",
   "execution_count": 21,
   "metadata": {},
   "outputs": [],
   "source": [
    "# Функция для получения списка ключевых навыков\n",
    "def getVacancyRequirements(soup):\n",
    "    listOfRequirements = []\n",
    "    vacancies = soup.find_all('div', {'class': 'vacancy-section'})\n",
    "    for vacancy in vacancies:\n",
    "        if vacancy.find('h2',{'class':'bloko-header-section-2'}):\n",
    "            requirements = vacancy.find_all('span')\n",
    "            for requirement in requirements:\n",
    "                listOfRequirements.append(requirement.text)\n",
    "    stringOfRequirements = ', '.join(listOfRequirements)\n",
    "    return stringOfRequirements"
   ]
  },
  {
   "attachments": {},
   "cell_type": "markdown",
   "metadata": {},
   "source": [
    "Собираем информацию о всех вакансиях"
   ]
  },
  {
   "cell_type": "code",
   "execution_count": 22,
   "metadata": {},
   "outputs": [
    {
     "name": "stdout",
     "output_type": "stream",
     "text": [
      "Список ссылок вакансий содержит 20 записей\n",
      "Список ссылок вакансий содержит 40 записей\n",
      "Список ссылок вакансий содержит 60 записей\n",
      "Список ссылок вакансий содержит 80 записей\n",
      "Список ссылок вакансий содержит 80 записей\n"
     ]
    }
   ],
   "source": [
    "# Получаем кол-во страниц с результатами поиска, собираем список вакансий\n",
    "soup = getBSPage(URL_SEARCH,URL_HEADERS,url_params)\n",
    "numers_of_page = int(soup.find_all('a',{'data-qa': 'pager-page'})[-1].text)\n",
    "for i in range(numers_of_page + 1):\n",
    "    if i == 0:\n",
    "        addVacancyToList(soup)\n",
    "    else:\n",
    "        url_params['page'] = i\n",
    "        soup = getBSPage(URL_SEARCH,URL_HEADERS,url_params)\n",
    "        addVacancyToList(soup)"
   ]
  },
  {
   "attachments": {},
   "cell_type": "markdown",
   "metadata": {},
   "source": [
    "Собираем информацию по всем вакансиям из созданного ранее списка"
   ]
  },
  {
   "cell_type": "code",
   "execution_count": 23,
   "metadata": {},
   "outputs": [
    {
     "name": "stdout",
     "output_type": "stream",
     "text": [
      "Список детальной информации о вакансиях содержит 1 записей\n",
      "Список детальной информации о вакансиях содержит 2 записей\n",
      "Список детальной информации о вакансиях содержит 3 записей\n",
      "Список детальной информации о вакансиях содержит 4 записей\n",
      "Список детальной информации о вакансиях содержит 5 записей\n",
      "Список детальной информации о вакансиях содержит 6 записей\n",
      "Список детальной информации о вакансиях содержит 7 записей\n",
      "Список детальной информации о вакансиях содержит 8 записей\n",
      "Список детальной информации о вакансиях содержит 9 записей\n",
      "Список детальной информации о вакансиях содержит 10 записей\n",
      "Список детальной информации о вакансиях содержит 11 записей\n",
      "Список детальной информации о вакансиях содержит 12 записей\n",
      "Список детальной информации о вакансиях содержит 13 записей\n",
      "Список детальной информации о вакансиях содержит 14 записей\n",
      "Список детальной информации о вакансиях содержит 15 записей\n",
      "Список детальной информации о вакансиях содержит 16 записей\n",
      "Список детальной информации о вакансиях содержит 17 записей\n",
      "Список детальной информации о вакансиях содержит 18 записей\n",
      "Список детальной информации о вакансиях содержит 19 записей\n",
      "Список детальной информации о вакансиях содержит 20 записей\n"
     ]
    }
   ],
   "source": [
    "\n",
    "for link in listLinkOfVacancy:\n",
    "    vacancyRow = []\n",
    "    soup = getBSPage(link,URL_HEADERS,url_params)\n",
    "    companyName = getCompanyName(soup)\n",
    "    vacancyName = getVacancyName(soup)\n",
    "    vacancyDescription = getVacancyDescription(soup)\n",
    "    vacancyRequirements = getVacancyRequirements(soup)\n",
    "    vacancyRow.append(companyName)\n",
    "    vacancyRow.append(vacancyName)\n",
    "    vacancyRow.append(vacancyDescription)\n",
    "    vacancyRow.append(vacancyRequirements)\n",
    "    vacancyDetailInfo.append(vacancyRow)\n",
    "    print(f'Список детальной информации о вакансиях содержит {len(vacancyDetailInfo)} записей')\n",
    "    # Этим куском можно регулировать количество интересующих данных\n",
    "    if (len(vacancyDetailInfo) >= LIMIT_OF_VACANCY_DETAIL):\n",
    "        break"
   ]
  },
  {
   "attachments": {},
   "cell_type": "markdown",
   "metadata": {},
   "source": [
    "Записываем результат в БД"
   ]
  },
  {
   "cell_type": "code",
   "execution_count": 24,
   "metadata": {},
   "outputs": [],
   "source": [
    "columns = ['company_name', 'position', 'job_description', 'key_skills']\n",
    "df = pd.DataFrame(data=vacancyDetailInfo,columns=columns)"
   ]
  },
  {
   "cell_type": "code",
   "execution_count": 26,
   "metadata": {},
   "outputs": [],
   "source": [
    "connection = sqlite3.connect(DB_NAME)\n",
    "df.to_sql(TABLE_NAME,connection,if_exists='replace',index=False)\n",
    "connection.close()"
   ]
  }
 ],
 "metadata": {
  "kernelspec": {
   "display_name": "Python 3",
   "language": "python",
   "name": "python3"
  },
  "language_info": {
   "codemirror_mode": {
    "name": "ipython",
    "version": 3
   },
   "file_extension": ".py",
   "mimetype": "text/x-python",
   "name": "python",
   "nbconvert_exporter": "python",
   "pygments_lexer": "ipython3",
   "version": "3.9.13"
  },
  "orig_nbformat": 4
 },
 "nbformat": 4,
 "nbformat_minor": 2
}
